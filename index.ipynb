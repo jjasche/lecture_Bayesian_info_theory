{
 "cells": [
  {
   "cell_type": "markdown",
   "metadata": {},
   "source": [
    "# Bayesian information theory\n",
    "\n",
    "This collection of [jupyter](https://jupyter.org/) notebooks introduces various topics of Bayesian information theory. The theory is accompanied by computational examples. The notebooks constitute the lecture notes to the masters course \"Information Theory\" read by Jens Jasche, Department of Physics, Stockholm University."
   ]
  },
  {
   "cell_type": "markdown",
   "metadata": {},
   "source": [
    "## Table of Contents\n",
    "\n",
    "* [Lecture 1](lecture1/lecture1.ipynb )\n",
    "* [Lecture 2](lecture2/lecture2.ipynb )\n",
    "* [Lecture 3](lecture3/lecture3.ipynb )\n",
    "* [Lecture 4](lecture4/lecture4.ipynb )\n"
   ]
  },
  {
   "cell_type": "markdown",
   "metadata": {},
   "source": [
    "## Literature\n",
    "\n",
    "The contents base on the following literature:\n",
    "\n",
    "* Andrew Gelman, John B. Carlin, Hal S. Stern, David B. Dunson, Aki Vehtari, Donald B. Rubin, *Bayesian Data Analysis, Third Edition*, Chapman and Hall/CRC, 2013\n",
    "\n",
    "* Kevin B. Korb, Ann E. Nicholson, *Bayesian Artificial Intelligence, Second Edition*, Chapman & Hall/CRC, 2010\n"
   ]
  },
  {
   "cell_type": "markdown",
   "metadata": {},
   "source": [
    "## Contributors\n",
    "\n",
    "* Jens Jasche (author)"
   ]
  }
 ],
 "metadata": {
  "anaconda-cloud": {},
  "kernelspec": {
   "display_name": "Python 2",
   "language": "python",
   "name": "python2"
  },
  "language_info": {
   "codemirror_mode": {
    "name": "ipython",
    "version": 2
   },
   "file_extension": ".py",
   "mimetype": "text/x-python",
   "name": "python",
   "nbconvert_exporter": "python",
   "pygments_lexer": "ipython2",
   "version": "2.7.13"
  }
 },
 "nbformat": 4,
 "nbformat_minor": 1
}
